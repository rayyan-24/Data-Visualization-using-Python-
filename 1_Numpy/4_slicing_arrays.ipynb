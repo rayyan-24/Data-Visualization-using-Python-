{
 "cells": [
  {
   "cell_type": "markdown",
   "metadata": {},
   "source": [
    "<h1>Array Slicing</h1>"
   ]
  },
  {
   "cell_type": "code",
   "execution_count": 3,
   "metadata": {},
   "outputs": [],
   "source": [
    "import numpy as np"
   ]
  },
  {
   "cell_type": "code",
   "execution_count": 2,
   "metadata": {},
   "outputs": [
    {
     "name": "stdout",
     "output_type": "stream",
     "text": [
      "[[ 0  1  2  3  4]\n",
      " [ 5  6  7  8  9]\n",
      " [10 11 12 13 14]\n",
      " [15 16 17 18 19]]\n",
      "[[0 1]\n",
      " [5 6]]\n",
      "[[ 5  6  7  8  9]\n",
      " [10 11 12 13 14]]\n",
      "[[ 7]\n",
      " [12]]\n",
      "[[ 7]\n",
      " [12]]\n"
     ]
    }
   ],
   "source": [
    "x=np.arange(20).reshape(4,5)\n",
    "print(x)\n",
    "# a=x[row_start:row_end-1,column_start:column_end-1] -1 is done by default\n",
    "a=x[:2,:2]\n",
    "print(a)\n",
    "a=x[1:3,:]\n",
    "print(a)\n",
    "a=x[1:3,2:3]\n",
    "print(a)\n",
    "a=x[1:3,2:3]\n",
    "print(a)"
   ]
  },
  {
   "cell_type": "markdown",
   "metadata": {},
   "source": [
    "<h1>Assigning sliced list to a variable and problem [Copy Function ]</h1>\n",
    "array assignment follow shallow copy\n",
    "\n"
   ]
  },
  {
   "cell_type": "code",
   "execution_count": 3,
   "metadata": {},
   "outputs": [
    {
     "name": "stdout",
     "output_type": "stream",
     "text": [
      "[[ 0  1  2  3  4]\n",
      " [ 5  6  7  8  9]\n",
      " [10 11 12 13 14]\n",
      " [15 16 17 18 19]]\n",
      "[[ 6  7]\n",
      " [11 12]]\n",
      "[[ 0  1  2  3  4]\n",
      " [ 5  6 -9  8  9]\n",
      " [10 11 12 13 14]\n",
      " [15 16 17 18 19]]\n",
      "[[ 6 -9]\n",
      " [11 12]]\n"
     ]
    }
   ],
   "source": [
    "x=np.arange(20).reshape(4,5)\n",
    "print(x)\n",
    "y=x[1:3,1:3]\n",
    "print(y)\n",
    "# changing the variable y also affects variable x\n",
    "y[0,1]=-9\n",
    "print(x)\n",
    "print(y)\n",
    "# in order to create an independant variable using list slicing use copy() function"
   ]
  },
  {
   "cell_type": "code",
   "execution_count": 4,
   "metadata": {},
   "outputs": [
    {
     "name": "stdout",
     "output_type": "stream",
     "text": [
      "[[10 11 12 13 14]]\n",
      "[[10 11 99 13 14]]\n",
      "[[ 0  1  2  3  4]\n",
      " [ 5  6  7  8  9]\n",
      " [10 11 12 13 14]\n",
      " [15 16 17 18 19]]\n"
     ]
    }
   ],
   "source": [
    "# Method 1 to use copy function of numpy\n",
    "x=np.arange(20).reshape(4,5)\n",
    "y=np.copy(x[2:3,:])\n",
    "print(y)\n",
    "y[0,2]=99\n",
    "print(y)\n",
    "print(x)\n"
   ]
  },
  {
   "cell_type": "code",
   "execution_count": 5,
   "metadata": {},
   "outputs": [
    {
     "name": "stdout",
     "output_type": "stream",
     "text": [
      "[[10 11 12 13 14]]\n",
      "[[10 11 99 13 14]]\n",
      "[[ 0  1  2  3  4]\n",
      " [ 5  6  7  8  9]\n",
      " [10 11 12 13 14]\n",
      " [15 16 17 18 19]]\n"
     ]
    }
   ],
   "source": [
    "# Method 2 to use copy function of python lists\n",
    "x=np.arange(20).reshape(4,5)\n",
    "y=x[2:3,:].copy()\n",
    "print(y)\n",
    "y[0,2]=99\n",
    "print(y)\n",
    "print(x)\n"
   ]
  },
  {
   "cell_type": "markdown",
   "metadata": {},
   "source": [
    "<h1>Diag Function</h1>"
   ]
  },
  {
   "cell_type": "code",
   "execution_count": 4,
   "metadata": {},
   "outputs": [
    {
     "name": "stdout",
     "output_type": "stream",
     "text": [
      "[[ 0  1  2  3  4]\n",
      " [ 5  6  7  8  9]\n",
      " [10 11 12 13 14]\n",
      " [15 16 17 18 19]\n",
      " [20 21 22 23 24]]\n",
      "Elements of Main Diaognal are\n",
      " [ 0  6 12 18 24]\n",
      "Elements Above Main Diaognal are\n",
      " [ 1  7 13 19]\n",
      "Elements Bellow Main Diaognal are\n",
      " [ 5 11 17 23]\n",
      "[1 2 3 5]\n"
     ]
    }
   ],
   "source": [
    "# 0 means main diagonal\n",
    "# k<0 means bellow main diagonal\n",
    "# k>0 means above main diagonal\n",
    "x=np.arange(25).reshape(5,5)\n",
    "print(x)\n",
    "y=np.diag(x,0)\n",
    "print(\"Elements of Main Diaognal are\\n\",y)\n",
    "y=np.diag(x,1)\n",
    "print(\"Elements Above Main Diaognal are\\n\",y)\n",
    "y=np.diag(x,-1)\n",
    "print(\"Elements Bellow Main Diaognal are\\n\",y)\n",
    "# Unique Funcion to get unique values form an array\n",
    "x=np.array([1,2,2,3,5,2,3])\n",
    "print(np.unique(x))"
   ]
  },
  {
   "cell_type": "code",
   "execution_count": 1,
   "metadata": {},
   "outputs": [
    {
     "name": "stdout",
     "output_type": "stream",
     "text": [
      "KKK\n"
     ]
    }
   ],
   "source": []
  }
 ],
 "metadata": {
  "kernelspec": {
   "display_name": "Python 3.10.5 64-bit",
   "language": "python",
   "name": "python3"
  },
  "language_info": {
   "codemirror_mode": {
    "name": "ipython",
    "version": 3
   },
   "file_extension": ".py",
   "mimetype": "text/x-python",
   "name": "python",
   "nbconvert_exporter": "python",
   "pygments_lexer": "ipython3",
   "version": "3.10.5"
  },
  "orig_nbformat": 4,
  "vscode": {
   "interpreter": {
    "hash": "ca3baad2243e1b968893fccfbc814a0945e11c9d26858fec05fa1f6aa4ff6a4c"
   }
  }
 },
 "nbformat": 4,
 "nbformat_minor": 2
}
