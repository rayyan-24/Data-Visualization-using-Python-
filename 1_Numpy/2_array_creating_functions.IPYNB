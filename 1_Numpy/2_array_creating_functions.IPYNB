{
 "cells": [
  {
   "cell_type": "markdown",
   "metadata": {},
   "source": [
    "<h2>Array of Zeros</h2>"
   ]
  },
  {
   "cell_type": "code",
   "execution_count": 2,
   "metadata": {},
   "outputs": [
    {
     "name": "stdout",
     "output_type": "stream",
     "text": [
      "[[0 0 0]\n",
      " [0 0 0]\n",
      " [0 0 0]]\n",
      "[[0. 0. 0.]\n",
      " [0. 0. 0.]\n",
      " [0. 0. 0.]]\n"
     ]
    }
   ],
   "source": [
    "import numpy as np\n",
    "x=np.zeros((3,3),np.int64)\n",
    "print(f\"{x}\")\n",
    "x=np.zeros((3,3))\n",
    "print(f\"{x}\")"
   ]
  },
  {
   "cell_type": "markdown",
   "metadata": {},
   "source": [
    "<h2>Array of Ones</h2>"
   ]
  },
  {
   "cell_type": "code",
   "execution_count": 3,
   "metadata": {},
   "outputs": [
    {
     "name": "stdout",
     "output_type": "stream",
     "text": [
      "[[1 1 1]\n",
      " [1 1 1]]\n"
     ]
    }
   ],
   "source": [
    "x=np.ones((2,3),np.int64)\n",
    "print(x)        "
   ]
  },
  {
   "cell_type": "markdown",
   "metadata": {},
   "source": [
    "<h2>Array of Full of specific elements</h2>"
   ]
  },
  {
   "cell_type": "code",
   "execution_count": 4,
   "metadata": {},
   "outputs": [
    {
     "name": "stdout",
     "output_type": "stream",
     "text": [
      "[[1 1 1]\n",
      " [1 1 1]\n",
      " [1 1 1]\n",
      " [1 1 1]]\n"
     ]
    }
   ],
   "source": [
    "# np.full(shape, constant value)\n",
    "x=np.full((4,3),1)\n",
    "print(x)\n"
   ]
  },
  {
   "cell_type": "markdown",
   "metadata": {},
   "source": [
    "<h2>Identity Martix</h2>"
   ]
  },
  {
   "cell_type": "code",
   "execution_count": 5,
   "metadata": {},
   "outputs": [
    {
     "name": "stdout",
     "output_type": "stream",
     "text": [
      "[[1 0 0 0 0]\n",
      " [0 1 0 0 0]\n",
      " [0 0 1 0 0]\n",
      " [0 0 0 1 0]\n",
      " [0 0 0 0 1]]\n",
      "[[1 0 0]\n",
      " [0 1 0]\n",
      " [0 0 1]]\n"
     ]
    }
   ],
   "source": [
    "x=np.eye(5,dtype=np.int64)\n",
    "print(x)\n",
    "x=np.eye(3,dtype=np.int32)\n",
    "print(x)"
   ]
  },
  {
   "cell_type": "markdown",
   "metadata": {},
   "source": [
    "<h2>Diagonal Matrix</h2>"
   ]
  },
  {
   "cell_type": "code",
   "execution_count": 6,
   "metadata": {},
   "outputs": [
    {
     "name": "stdout",
     "output_type": "stream",
     "text": [
      "[[10  0]\n",
      " [ 0 20]]\n",
      "[[10  0  0  0]\n",
      " [ 0 20  0  0]\n",
      " [ 0  0 30  0]\n",
      " [ 0  0  0 40]]\n"
     ]
    }
   ],
   "source": [
    "x=np.diag([10,20])\n",
    "print(x)\n",
    "x=np.diag([10,20,30,40])\n",
    "print(x)"
   ]
  },
  {
   "cell_type": "markdown",
   "metadata": {},
   "source": [
    "<h2>arange function for producing integer array</h2>"
   ]
  },
  {
   "cell_type": "code",
   "execution_count": 7,
   "metadata": {},
   "outputs": [
    {
     "name": "stdout",
     "output_type": "stream",
     "text": [
      "[0 1 2 3 4 5 6 7 8 9]\n",
      "[1 2 3 4 5 6 7 8 9]\n",
      "[1 3 5 7 9]\n"
     ]
    }
   ],
   "source": [
    "# x=np.arange(start=0,stop,step=1)\n",
    "x=np.arange(10)\n",
    "print(x)\n",
    "x=np.arange(1,10)\n",
    "print(x)\n",
    "x=np.arange(1,11,2)\n",
    "print(x)"
   ]
  },
  {
   "cell_type": "markdown",
   "metadata": {},
   "source": [
    "<h2>linespace function for producing float array</h2>"
   ]
  },
  {
   "cell_type": "code",
   "execution_count": 10,
   "metadata": {},
   "outputs": [
    {
     "name": "stdout",
     "output_type": "stream",
     "text": [
      "[ 0.1         0.3022449   0.5044898   0.70673469  0.90897959  1.11122449\n",
      "  1.31346939  1.51571429  1.71795918  1.92020408  2.12244898  2.32469388\n",
      "  2.52693878  2.72918367  2.93142857  3.13367347  3.33591837  3.53816327\n",
      "  3.74040816  3.94265306  4.14489796  4.34714286  4.54938776  4.75163265\n",
      "  4.95387755  5.15612245  5.35836735  5.56061224  5.76285714  5.96510204\n",
      "  6.16734694  6.36959184  6.57183673  6.77408163  6.97632653  7.17857143\n",
      "  7.38081633  7.58306122  7.78530612  7.98755102  8.18979592  8.39204082\n",
      "  8.59428571  8.79653061  8.99877551  9.20102041  9.40326531  9.6055102\n",
      "  9.8077551  10.01      ]\n"
     ]
    }
   ],
   "source": [
    "x=np.linspace(0.1,10.01)\n",
    "print(x)"
   ]
  },
  {
   "cell_type": "markdown",
   "metadata": {},
   "source": [
    "<h2>Creating Multidimensional Array using arange and reshape</h2>"
   ]
  },
  {
   "cell_type": "code",
   "execution_count": null,
   "metadata": {},
   "outputs": [
    {
     "name": "stdout",
     "output_type": "stream",
     "text": [
      "Orignal = [1 2 3 4 5 6 7 8 9]\n",
      "[[1 2 3]\n",
      " [4 5 6]\n",
      " [7 8 9]]\n",
      "[[1 2 3]\n",
      " [4 5 6]\n",
      " [7 8 9]]\n"
     ]
    }
   ],
   "source": [
    "x=np.arange(1,10)\n",
    "print(f\"Orignal = {x}\")\n",
    "x=x.reshape(3,3)\n",
    "print(x)\n",
    "y=np.arange(1,10).reshape(3,3)\n",
    "print(y)"
   ]
  },
  {
   "cell_type": "markdown",
   "metadata": {},
   "source": [
    "<h2>Array with random Numbers</h2>"
   ]
  },
  {
   "cell_type": "code",
   "execution_count": null,
   "metadata": {},
   "outputs": [
    {
     "name": "stdout",
     "output_type": "stream",
     "text": [
      "0.2059240109132886\n",
      "[[0.19229565 0.20693956 0.14281604]\n",
      " [0.52593563 0.0253163  0.94258303]\n",
      " [0.75570061 0.74557899 0.49880196]]\n",
      "[[5 8 8]\n",
      " [9 6 5]\n",
      " [3 5 4]]\n"
     ]
    }
   ],
   "source": [
    "x=np.random.random()\n",
    "print(x)\n",
    "x=np.random.random((3,3))\n",
    "print(x)\n",
    "x=np.random.randint(1,10,size=(3,3))\n",
    "print(x)"
   ]
  }
 ],
 "metadata": {
  "kernelspec": {
   "display_name": "Python 3.10.5 64-bit",
   "language": "python",
   "name": "python3"
  },
  "language_info": {
   "codemirror_mode": {
    "name": "ipython",
    "version": 3
   },
   "file_extension": ".py",
   "mimetype": "text/x-python",
   "name": "python",
   "nbconvert_exporter": "python",
   "pygments_lexer": "ipython3",
   "version": "3.10.5"
  },
  "orig_nbformat": 4,
  "vscode": {
   "interpreter": {
    "hash": "ca3baad2243e1b968893fccfbc814a0945e11c9d26858fec05fa1f6aa4ff6a4c"
   }
  }
 },
 "nbformat": 4,
 "nbformat_minor": 2
}
