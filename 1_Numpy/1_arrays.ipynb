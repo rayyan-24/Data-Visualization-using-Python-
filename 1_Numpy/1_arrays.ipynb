{
 "cells": [
  {
   "cell_type": "markdown",
   "metadata": {},
   "source": [
    "<h2>1 Dimensional Array</h2>"
   ]
  },
  {
   "cell_type": "code",
   "execution_count": 2,
   "metadata": {},
   "outputs": [],
   "source": [
    "import numpy as np"
   ]
  },
  {
   "cell_type": "markdown",
   "metadata": {},
   "source": [
    "<h2>1 Dimensional Array of Integers</h2>"
   ]
  },
  {
   "cell_type": "code",
   "execution_count": 3,
   "metadata": {},
   "outputs": [
    {
     "name": "stdout",
     "output_type": "stream",
     "text": [
      "[ 1  2  3  4  5  6  7  8  9 10]\n",
      "<class 'numpy.ndarray'>\n",
      "dimensions of [ 1  2  3  4  5  6  7  8  9 10] is (10,)\n",
      "type of elements of [ 1  2  3  4  5  6  7  8  9 10] is int32\n"
     ]
    }
   ],
   "source": [
    "arr1=np.array([x for x in range(1,11)])\n",
    "print(arr1)\n",
    "print(type(arr1))\n",
    "print(f\"dimensions of {arr1} is {arr1.shape}\")\n",
    "print(f\"type of elements of {arr1} is {arr1.dtype}\")"
   ]
  },
  {
   "cell_type": "markdown",
   "metadata": {},
   "source": [
    "<h2>1 Dimensional Array of Strings</h2>"
   ]
  },
  {
   "cell_type": "code",
   "execution_count": 12,
   "metadata": {},
   "outputs": [
    {
     "name": "stdout",
     "output_type": "stream",
     "text": [
      "['Hello' 'World']\n",
      "<class 'numpy.ndarray'>\n",
      "dimensions of ['Hello' 'World'] is (2,)\n",
      "dimensions of ['Hello' 'World'] is 1\n",
      "type of elements of ['Hello' 'World'] is <U5\n"
     ]
    }
   ],
   "source": [
    "arr1=np.array([\"Hello\",\"World\"])\n",
    "print(arr1)\n",
    "print(type(arr1))\n",
    "'''\n",
    "shape gives the row, column tuple (row,column)\n",
    "ndim gives the dimension like 1D,2D,3D \n",
    "'''\n",
    "print(f\"dimensions of {arr1} is {arr1.shape}\")\n",
    "print(f\"dimensions of {arr1} is {arr1.ndim}\")\n",
    "print(f\"type of elements of {arr1} is {arr1.dtype}\")"
   ]
  },
  {
   "cell_type": "markdown",
   "metadata": {},
   "source": [
    "<h2>1 Dimensional Array of Integers and Strings</h2>"
   ]
  },
  {
   "cell_type": "code",
   "execution_count": 5,
   "metadata": {},
   "outputs": [
    {
     "name": "stdout",
     "output_type": "stream",
     "text": [
      "['Hello' 'World' '1' '2' '3']\n",
      "<class 'numpy.ndarray'>\n",
      "dimensions of ['Hello' 'World' '1' '2' '3'] is (5,)\n",
      "type of elements of ['Hello' 'World' '1' '2' '3'] is <U11\n"
     ]
    }
   ],
   "source": [
    "arr1=np.array([\"Hello\",\"World\",1,2,3])\n",
    "print(arr1)\n",
    "print(type(arr1))\n",
    "print(f\"shape of {arr1} is {arr1.shape}\")\n",
    "print(f\"type of elements of {arr1} is {arr1.dtype}\")"
   ]
  },
  {
   "cell_type": "markdown",
   "metadata": {},
   "source": [
    "<h2>2 Dimensional Array</h2>"
   ]
  },
  {
   "cell_type": "code",
   "execution_count": 24,
   "metadata": {},
   "outputs": [
    {
     "name": "stdout",
     "output_type": "stream",
     "text": [
      "[[1 2 3]\n",
      " [4 5 6]\n",
      " [7 8 9]]\n",
      "shape of arr2 are (3, 3)\n",
      "dimensions of arr2 are 2\n",
      "number of elements of arr2 are 9\n",
      "type of elements of arr2 are int32\n",
      "6\n",
      "6\n"
     ]
    }
   ],
   "source": [
    "arr2=np.array([\n",
    "                    [1,2,3],\n",
    "                    [4,5,6],\n",
    "                    [7,8,9]\n",
    "             ])\n",
    "print(f\"{arr2}\")\n",
    "print(f\"shape of arr2 are {arr2.shape}\")\n",
    "print(f\"dimensions of arr2 are {arr2.ndim}\")\n",
    "print(f\"number of elements of arr2 are {arr2.size}\")\n",
    "print(f\"type of elements of arr2 are {arr2.dtype}\")\n",
    "# both lines bellow are equivalent\n",
    "print(arr2[1,2])\n",
    "print(arr2[1][2]) \n"
   ]
  },
  {
   "cell_type": "markdown",
   "metadata": {},
   "source": [
    "# 3D Arrays"
   ]
  },
  {
   "cell_type": "code",
   "execution_count": 20,
   "metadata": {},
   "outputs": [
    {
     "name": "stdout",
     "output_type": "stream",
     "text": [
      "[[[1 2 3]\n",
      "  [4 5 6]]\n",
      "\n",
      " [[1 2 3]\n",
      "  [4 5 6]]]\n"
     ]
    }
   ],
   "source": [
    "x=np.array([[[1,2,3],[4,5,6]],[[1,2,3],[4,5,6]]])\n",
    "print(x)\n"
   ]
  },
  {
   "cell_type": "code",
   "execution_count": 28,
   "metadata": {},
   "outputs": [
    {
     "name": "stdout",
     "output_type": "stream",
     "text": [
      "[[ 7  8  9]\n",
      " [10 11 12]]\n",
      "1\n",
      "1\n"
     ]
    }
   ],
   "source": [
    "a=[\n",
    "    [[1,2,3],[4,5,6]],\n",
    "    [[7,8,9],[10,11,12]]\n",
    "    ]\n",
    "# a is an array which contains two 2D arrays\n",
    "# a  is a 3D array\n",
    "y=np.array(a)\n",
    "print(y[1])\n",
    "print(y[0][0][0])\n",
    "print(y[0,0,0])\n"
   ]
  },
  {
   "cell_type": "markdown",
   "metadata": {},
   "source": [
    "<h2>1 Dimensional Array with specific Data Type</h2>"
   ]
  },
  {
   "cell_type": "code",
   "execution_count": 8,
   "metadata": {},
   "outputs": [
    {
     "name": "stdout",
     "output_type": "stream",
     "text": [
      "[1.2   3.3   5.904 6.5  ]\n",
      "type of elements of arr2 are float64\n"
     ]
    }
   ],
   "source": [
    "arr2=np.array([1.2,3.3,5.904,6.5],np.float64)\n",
    "print(f\"{arr2}\")\n",
    "print(f\"type of elements of arr2 are {arr2.dtype}\")"
   ]
  },
  {
   "cell_type": "code",
   "execution_count": 9,
   "metadata": {},
   "outputs": [
    {
     "name": "stdout",
     "output_type": "stream",
     "text": [
      "[1 3 5 6]\n",
      "type of elements of arr2 are int64\n"
     ]
    }
   ],
   "source": [
    "arr2=np.array([1.2,3,5.904,6.5],np.int64)\n",
    "print(f\"{arr2}\")\n",
    "print(f\"type of elements of arr2 are {arr2.dtype}\")"
   ]
  },
  {
   "cell_type": "markdown",
   "metadata": {},
   "source": [
    "<h2>Saving Array to a File</h2>"
   ]
  },
  {
   "cell_type": "code",
   "execution_count": 10,
   "metadata": {},
   "outputs": [],
   "source": [
    "arr2=np.array([\n",
    "                    [1,2,3],\n",
    "                    [4,5,6],\n",
    "                    [7,8,9]\n",
    "             ])\n",
    "# np.save(\"<file-name>\",<name-of-array-variable>)\n",
    "np.save(\"numpy_array\",arr2)"
   ]
  },
  {
   "cell_type": "markdown",
   "metadata": {},
   "source": [
    "<h2>Loading File from an array</h2>"
   ]
  },
  {
   "cell_type": "code",
   "execution_count": 11,
   "metadata": {},
   "outputs": [
    {
     "name": "stdout",
     "output_type": "stream",
     "text": [
      "[[1 2 3]\n",
      " [4 5 6]\n",
      " [7 8 9]]\n",
      "dimensions = (3, 3)\n",
      "Number of Elements = 9\n"
     ]
    }
   ],
   "source": [
    "loaded_array=np.load(\"numpy_array.npy\")\n",
    "print(f\"{loaded_array}\")\n",
    "print(f\"dimensions = {loaded_array.shape}\")\n",
    "print(f\"Number of Elements = {loaded_array.size}\")"
   ]
  }
 ],
 "metadata": {
  "kernelspec": {
   "display_name": "Python 3.10.5 64-bit",
   "language": "python",
   "name": "python3"
  },
  "language_info": {
   "codemirror_mode": {
    "name": "ipython",
    "version": 3
   },
   "file_extension": ".py",
   "mimetype": "text/x-python",
   "name": "python",
   "nbconvert_exporter": "python",
   "pygments_lexer": "ipython3",
   "version": "3.10.5"
  },
  "orig_nbformat": 4,
  "vscode": {
   "interpreter": {
    "hash": "ca3baad2243e1b968893fccfbc814a0945e11c9d26858fec05fa1f6aa4ff6a4c"
   }
  }
 },
 "nbformat": 4,
 "nbformat_minor": 2
}
