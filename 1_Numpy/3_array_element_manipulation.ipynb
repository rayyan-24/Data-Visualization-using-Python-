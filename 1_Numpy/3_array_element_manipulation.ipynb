{
 "cells": [
  {
   "cell_type": "markdown",
   "id": "233bf60b",
   "metadata": {},
   "source": [
    "<h1>Accessing array element using index of 1D arrays</h1>"
   ]
  },
  {
   "cell_type": "code",
   "execution_count": 1,
   "id": "54e47a2c",
   "metadata": {},
   "outputs": [],
   "source": [
    "import numpy as np"
   ]
  },
  {
   "cell_type": "code",
   "execution_count": 2,
   "id": "a1524ab9",
   "metadata": {
    "scrolled": true
   },
   "outputs": [
    {
     "name": "stdout",
     "output_type": "stream",
     "text": [
      "Orignal = \n",
      " [ 1  2  3  4  5  6  7  8  9 10 11 12 13 14 15 16]\n",
      "Changed = \n",
      " [ 1 13  3  4  5  6  7  8  9 10 11 12 13 14 15 16]\n"
     ]
    }
   ],
   "source": [
    "x=np.arange(1,17)\n",
    "print(\"Orignal = \\n\",x)\n",
    "x[1]=13\n",
    "print(\"Changed = \\n\",x)\n"
   ]
  },
  {
   "cell_type": "markdown",
   "id": "a17b138e",
   "metadata": {},
   "source": [
    "<h1>Accessing array element using index of 2D arrays</h1>"
   ]
  },
  {
   "cell_type": "code",
   "execution_count": 3,
   "id": "e7025777",
   "metadata": {},
   "outputs": [
    {
     "name": "stdout",
     "output_type": "stream",
     "text": [
      "Orignal = \n",
      " [[1 2 3]\n",
      " [4 5 6]\n",
      " [7 8 9]]\n",
      "Changed = \n",
      " [[ 1  2  3]\n",
      " [13  5  6]\n",
      " [ 7  8  9]]\n"
     ]
    }
   ],
   "source": [
    "x=np.arange(1,10).reshape(3,3)\n",
    "print(\"Orignal = \\n\",x)\n",
    "x[(1,0)]=13\n",
    "print(\"Changed = \\n\",x)"
   ]
  },
  {
   "cell_type": "markdown",
   "id": "2165f122",
   "metadata": {},
   "source": [
    "<h1>Deleteing array elements using delete function of 1-D Arrays</h1>"
   ]
  },
  {
   "cell_type": "code",
   "execution_count": 4,
   "id": "78dc6ea0",
   "metadata": {},
   "outputs": [
    {
     "name": "stdout",
     "output_type": "stream",
     "text": [
      "[1 2 3 4 5 6 7 8 9]\n",
      "[2 3 4 5 6 7 8 9]\n",
      "[3 4 6 7 8 9]\n"
     ]
    }
   ],
   "source": [
    "# ********* 1-D Arrays********\n",
    "x=np.arange(1,10)\n",
    "print(f\"{x}\")\n",
    "x=np.delete(x,[0])\n",
    "print(f\"{x}\")\n",
    "x=np.delete(x,[0,3])\n",
    "print(f\"{x}\")\n",
    "# ********* 2-D Arrays***\n"
   ]
  },
  {
   "cell_type": "markdown",
   "id": "2165f122",
   "metadata": {},
   "source": [
    "<h1>Deleteing array elements using delete function of 2-D Arrays</h1>"
   ]
  },
  {
   "cell_type": "code",
   "execution_count": 5,
   "id": "54505cdf",
   "metadata": {},
   "outputs": [
    {
     "name": "stdout",
     "output_type": "stream",
     "text": [
      "[[0 1 2]\n",
      " [3 4 5]\n",
      " [6 7 8]]\n",
      "[[0 1 2]\n",
      " [6 7 8]]\n"
     ]
    }
   ],
   "source": [
    "# x=np.delete(<array-variable>,<row.column>,axis=0/1)\n",
    "# axis=0 means row\n",
    "# axis=1 means column\n",
    "x=np.arange(9).reshape(3,3)\n",
    "print(x)\n",
    "x=np.delete(x,1,axis=0)\n",
    "print(x)\n"
   ]
  },
  {
   "cell_type": "markdown",
   "id": "11d55f8d",
   "metadata": {},
   "source": [
    "<h1>Appending elements to an array</h1>"
   ]
  },
  {
   "cell_type": "code",
   "execution_count": 6,
   "id": "a6ff3fcb",
   "metadata": {},
   "outputs": [
    {
     "name": "stdout",
     "output_type": "stream",
     "text": [
      "[[0 1 2]\n",
      " [3 4 5]\n",
      " [6 7 8]]\n",
      "[[ 0  1  2]\n",
      " [ 3  4  5]\n",
      " [ 6  7  8]\n",
      " [11 22 33]]\n",
      "[[ 0  1  2 11]\n",
      " [ 3  4  5 22]\n",
      " [ 6  7  8 33]\n",
      " [11 22 33 44]]\n"
     ]
    }
   ],
   "source": [
    "# append(array,values,axis=None)\n",
    "x=np.arange(9).reshape(3,3)\n",
    "print(x)\n",
    "x=np.append(x,[[11,22,33]],0)\n",
    "print(x)\n",
    "x=np.append(x,[[11],[22],[33],[44]],1)\n",
    "print(x)"
   ]
  },
  {
   "cell_type": "markdown",
   "id": "11d55f8d",
   "metadata": {},
   "source": [
    "<h1>Inserting elements to an array</h1>"
   ]
  },
  {
   "cell_type": "code",
   "execution_count": 7,
   "id": "607920f0",
   "metadata": {},
   "outputs": [
    {
     "name": "stdout",
     "output_type": "stream",
     "text": [
      "[1 2 3 4 5]\n",
      "[  1   2   3 111   4   5]\n"
     ]
    }
   ],
   "source": [
    "# insert(array, pos, values, axis=None):\n",
    "\n",
    "x=np.array([1,2,3,4,5])\n",
    "print(x)\n",
    "x=np.insert(x,3,111)\n",
    "print(x)\n"
   ]
  },
  {
   "cell_type": "code",
   "execution_count": 8,
   "id": "dbf1664c",
   "metadata": {},
   "outputs": [
    {
     "name": "stdout",
     "output_type": "stream",
     "text": [
      "[[1 2 3]\n",
      " [4 5 6]\n",
      " [7 8 9]]\n",
      "[[1 2 3]\n",
      " [0 0 0]\n",
      " [4 5 6]\n",
      " [7 8 9]]\n"
     ]
    }
   ],
   "source": [
    "y=np.arange(1,10).reshape((3,3))\n",
    "print(y)\n",
    "y=np.insert(y,1,[0,0,0],axis=0)\n",
    "print(y)\n"
   ]
  },
  {
   "cell_type": "code",
   "execution_count": 9,
   "id": "f106fe75",
   "metadata": {},
   "outputs": [
    {
     "name": "stdout",
     "output_type": "stream",
     "text": [
      "[[1 2 3]\n",
      " [4 5 6]\n",
      " [7 8 9]]\n",
      "[[1 0 2 3]\n",
      " [4 1 5 6]\n",
      " [7 2 8 9]]\n"
     ]
    }
   ],
   "source": [
    "y=np.arange(1,10).reshape((3,3))\n",
    "print(y)\n",
    "y=np.insert(y,1,[[0,1,2]],axis=1)\n",
    "print(y)"
   ]
  },
  {
   "cell_type": "markdown",
   "id": "22476a13",
   "metadata": {},
   "source": [
    "<h1>Stack arrays on each other (Vertical Stack)</h1>"
   ]
  },
  {
   "cell_type": "code",
   "execution_count": 10,
   "id": "0005befa",
   "metadata": {},
   "outputs": [
    {
     "name": "stdout",
     "output_type": "stream",
     "text": [
      "[[1 2 3]\n",
      " [4 5 6]]\n",
      "[[1 2 3]\n",
      " [4 5 6]\n",
      " [7 8 9]]\n"
     ]
    }
   ],
   "source": [
    "x=np.array([[1,2,3],[4,5,6]])\n",
    "print(x)\n",
    "y=np.array([7,8,9])\n",
    "z=np.vstack((x,y))\n",
    "print(z)"
   ]
  },
  {
   "cell_type": "markdown",
   "id": "80804661",
   "metadata": {},
   "source": [
    "<h1>Stack arrays on each other (Horizontal Stack)</h1>\n"
   ]
  },
  {
   "cell_type": "code",
   "execution_count": 13,
   "id": "b4d11908",
   "metadata": {},
   "outputs": [
    {
     "name": "stdout",
     "output_type": "stream",
     "text": [
      "[[1 2 3]\n",
      " [4 5 6]]\n",
      "[[1 2 3 7 3]\n",
      " [4 5 6 8 0]]\n"
     ]
    }
   ],
   "source": [
    "x=np.array([[1,2,3],[4,5,6]])\n",
    "print(x)\n",
    "# y=np.array([[7],[8]])\n",
    "y=np.array([\n",
    "    [7,3],\n",
    "    [8,0]\n",
    "])\n",
    "z=np.hstack((x,y))\n",
    "print(z)"
   ]
  }
 ],
 "metadata": {
  "kernelspec": {
   "display_name": "Python 3.10.5 64-bit",
   "language": "python",
   "name": "python3"
  },
  "language_info": {
   "codemirror_mode": {
    "name": "ipython",
    "version": 3
   },
   "file_extension": ".py",
   "mimetype": "text/x-python",
   "name": "python",
   "nbconvert_exporter": "python",
   "pygments_lexer": "ipython3",
   "version": "3.10.5"
  },
  "vscode": {
   "interpreter": {
    "hash": "ca3baad2243e1b968893fccfbc814a0945e11c9d26858fec05fa1f6aa4ff6a4c"
   }
  }
 },
 "nbformat": 4,
 "nbformat_minor": 5
}
