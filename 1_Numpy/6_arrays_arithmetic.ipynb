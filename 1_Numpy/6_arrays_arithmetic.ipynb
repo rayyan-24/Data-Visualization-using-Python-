{
 "cells": [
  {
   "cell_type": "markdown",
   "metadata": {},
   "source": [
    "# Array Arithmetic"
   ]
  },
  {
   "cell_type": "code",
   "execution_count": 1,
   "metadata": {},
   "outputs": [],
   "source": [
    "import numpy as np          "
   ]
  },
  {
   "cell_type": "markdown",
   "metadata": {},
   "source": [
    "# Arithmetic of 1-D Array"
   ]
  },
  {
   "cell_type": "code",
   "execution_count": 2,
   "metadata": {},
   "outputs": [
    {
     "name": "stdout",
     "output_type": "stream",
     "text": [
      "Addition\n",
      " [5 7 9]\n",
      "Subtraction\n",
      " [-3 -3 -3]\n",
      "Multiplication\n",
      " [ 4 10 18]\n",
      "Division\n",
      " [0.25 0.4  0.5 ]\n"
     ]
    }
   ],
   "source": [
    "x=np.array([1,2,3])\n",
    "y=np.array([4,5,6])\n",
    "print(f\"Addition\\n {np.add(x,y)}\")\n",
    "print(f\"Subtraction\\n {np.subtract(x,y)}\")\n",
    "print(f\"Multiplication\\n {np.multiply(x,y)}\")\n",
    "print(f\"Division\\n {np.divide(x,y)}\")"
   ]
  },
  {
   "cell_type": "markdown",
   "metadata": {},
   "source": [
    "# Arithmetic of 2-D Array\n",
    "same operations can also be performed using operators (+ - * /)"
   ]
  },
  {
   "cell_type": "code",
   "execution_count": 4,
   "metadata": {},
   "outputs": [
    {
     "name": "stdout",
     "output_type": "stream",
     "text": [
      "Addition\n",
      " [[ 5  7]\n",
      " [ 9 30]]\n",
      "Subtraction\n",
      " [[ -3  -3]\n",
      " [ -3 -10]]\n",
      "Multiplication\n",
      " [[  4  10]\n",
      " [ 18 200]]\n",
      "Division\n",
      " [[0.25 0.4 ]\n",
      " [0.5  0.5 ]]\n",
      "Power Function \n",
      " [[   1    8]\n",
      " [  27 1000]]\n",
      "Square Root Function \n",
      " [[1.         1.41421356]\n",
      " [1.73205081 3.16227766]]\n"
     ]
    }
   ],
   "source": [
    "x=np.array([1,2,3,10]).reshape(2,2)\n",
    "y=np.array([4,5,6,20]).reshape(2,2)\n",
    "print(f\"Addition\\n {np.add(x,y)}\")\n",
    "print(f\"Subtraction\\n {np.subtract(x,y)}\")\n",
    "print(f\"Multiplication\\n {np.multiply(x,y)}\")\n",
    "print(f\"Division\\n {np.divide(x,y)}\")\n",
    "print(\"Power Function \\n\", np.power(x,3))\n",
    "print(\"Square Root Function \\n\",np.sqrt(x))"
   ]
  },
  {
   "cell_type": "markdown",
   "metadata": {},
   "source": [
    "# "
   ]
  },
  {
   "cell_type": "code",
   "execution_count": null,
   "metadata": {},
   "outputs": [],
   "source": []
  }
 ],
 "metadata": {
  "kernelspec": {
   "display_name": "Python 3.10.5 64-bit",
   "language": "python",
   "name": "python3"
  },
  "language_info": {
   "codemirror_mode": {
    "name": "ipython",
    "version": 3
   },
   "file_extension": ".py",
   "mimetype": "text/x-python",
   "name": "python",
   "nbconvert_exporter": "python",
   "pygments_lexer": "ipython3",
   "version": "3.10.5"
  },
  "orig_nbformat": 4,
  "vscode": {
   "interpreter": {
    "hash": "ca3baad2243e1b968893fccfbc814a0945e11c9d26858fec05fa1f6aa4ff6a4c"
   }
  }
 },
 "nbformat": 4,
 "nbformat_minor": 2
}
