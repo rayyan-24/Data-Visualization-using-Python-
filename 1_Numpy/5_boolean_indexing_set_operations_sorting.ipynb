{
 "cells": [
  {
   "cell_type": "code",
   "execution_count": 4,
   "metadata": {},
   "outputs": [],
   "source": [
    "import numpy as np"
   ]
  },
  {
   "cell_type": "markdown",
   "metadata": {},
   "source": [
    "<h1>Boolean Indexing</h1>"
   ]
  },
  {
   "cell_type": "code",
   "execution_count": 5,
   "metadata": {},
   "outputs": [
    {
     "name": "stdout",
     "output_type": "stream",
     "text": [
      "[[ 1  2  3  4  5]\n",
      " [ 6  7  8  9 10]\n",
      " [11 12 13 14 15]\n",
      " [16 17 18 19 20]\n",
      " [21 22 23 24 25]]\n",
      "y= [10 11 12 13 14 15]\n",
      "[[ 1  2  3  4  5]\n",
      " [ 6  7  8  9  0]\n",
      " [ 0  0  0  0  0]\n",
      " [16 17 18 19 20]\n",
      " [21 22 23 24 25]]\n"
     ]
    }
   ],
   "source": [
    "x=np.arange(1,26).reshape(5,5)\n",
    "print(x)\n",
    "y=x[(x>=10) & (x<=15)]\n",
    "print(\"y=\",y)\n",
    "x[(x>=10) & (x<=15)]=0\n",
    "print(x)"
   ]
  },
  {
   "cell_type": "markdown",
   "metadata": {},
   "source": [
    "<h1>Set Operations</h1>"
   ]
  },
  {
   "cell_type": "code",
   "execution_count": 4,
   "metadata": {},
   "outputs": [
    {
     "name": "stdout",
     "output_type": "stream",
     "text": [
      "[1 3 5]\n",
      "[2 4]\n",
      "[1 2 3 4 5 6 7 8]\n"
     ]
    }
   ],
   "source": [
    "x = np.array([1,2,3,4,5])\n",
    "y = np.array([6,7,2,8,4])\n",
    "print(np.setdiff1d(x,y)) # returns elements of \"x\" which are not in \"y\" (x-y)\n",
    "print(np.intersect1d(x,y))\n",
    "print(np.union1d(x,y))"
   ]
  },
  {
   "cell_type": "markdown",
   "metadata": {},
   "source": [
    "<h1>Sorting Arrays</h1>"
   ]
  },
  {
   "cell_type": "code",
   "execution_count": 5,
   "metadata": {},
   "outputs": [
    {
     "name": "stdout",
     "output_type": "stream",
     "text": [
      "[16  6  1  4 11  7 19  5 18  5]\n",
      "[ 1  4  5  6  7 11 16 18 19]\n",
      "[16  6  1  4 11  7 19  5 18  5]\n"
     ]
    }
   ],
   "source": [
    "x=np.random.randint(1,20,10)\n",
    "print(x)\n",
    "# np.sort(<array-variable>) --> does not change the orignal array-variable\n",
    "# <array-variable>.sort() --> changes the orignal array\n",
    "print(np.sort(np.unique(x)))\n",
    "print(x)"
   ]
  },
  {
   "cell_type": "code",
   "execution_count": 6,
   "metadata": {},
   "outputs": [
    {
     "name": "stdout",
     "output_type": "stream",
     "text": [
      "[ 9 11 18  1 14  2 16  8  6 14]\n",
      "[ 1  2  6  8  9 11 14 14 16 18]\n",
      "[ 1  2  6  8  9 11 14 16 18]\n"
     ]
    }
   ],
   "source": [
    "x=np.random.randint(1,20,10)\n",
    "print(x)\n",
    "x.sort()\n",
    "print(x)\n",
    "x=np.unique(x)\n",
    "print(x)"
   ]
  },
  {
   "cell_type": "markdown",
   "metadata": {},
   "source": [
    "# Sorting 2-D Arrays"
   ]
  },
  {
   "cell_type": "code",
   "execution_count": 7,
   "metadata": {},
   "outputs": [
    {
     "name": "stdout",
     "output_type": "stream",
     "text": [
      "[[14 17  9 17]\n",
      " [14 16  2  8]\n",
      " [ 4 18  1 18]\n",
      " [ 3  7  7  9]]\n",
      "Column wise Sort\n",
      "[[ 3  7  1  8]\n",
      " [ 4 16  2  9]\n",
      " [14 17  7 17]\n",
      " [14 18  9 18]]\n",
      "Row wise Sort\n",
      "[[ 9 14 17 17]\n",
      " [ 2  8 14 16]\n",
      " [ 1  4 18 18]\n",
      " [ 3  7  7  9]]\n"
     ]
    }
   ],
   "source": [
    "# axis=0 ---> Sort by column\n",
    "# axis=1 ---> Sort by row\n",
    "x=np.random.randint(1,20,(4,4))\n",
    "y=np.copy(x)\n",
    "print(x)\n",
    "print(\"Column wise Sort\")\n",
    "x.sort(axis=0)\n",
    "print(x)\n",
    "print(\"Row wise Sort\")\n",
    "y.sort(axis=1)\n",
    "print(y)"
   ]
  }
 ],
 "metadata": {
  "kernelspec": {
   "display_name": "Python 3.10.5 64-bit",
   "language": "python",
   "name": "python3"
  },
  "language_info": {
   "codemirror_mode": {
    "name": "ipython",
    "version": 3
   },
   "file_extension": ".py",
   "mimetype": "text/x-python",
   "name": "python",
   "nbconvert_exporter": "python",
   "pygments_lexer": "ipython3",
   "version": "3.10.5"
  },
  "orig_nbformat": 4,
  "vscode": {
   "interpreter": {
    "hash": "ca3baad2243e1b968893fccfbc814a0945e11c9d26858fec05fa1f6aa4ff6a4c"
   }
  }
 },
 "nbformat": 4,
 "nbformat_minor": 2
}
