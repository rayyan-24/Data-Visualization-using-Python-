{
 "cells": [
  {
   "cell_type": "code",
   "execution_count": 2,
   "metadata": {},
   "outputs": [],
   "source": [
    "import pandas as pd\n",
    "import numpy as np"
   ]
  },
  {
   "cell_type": "markdown",
   "metadata": {},
   "source": [
    "# Creating a panda series"
   ]
  },
  {
   "cell_type": "code",
   "execution_count": 3,
   "metadata": {},
   "outputs": [
    {
     "name": "stdout",
     "output_type": "stream",
     "text": [
      "eggs       30\n",
      "apples      6\n",
      "milk      yes\n",
      "bread      no\n",
      "dtype: object\n",
      "English    78\n",
      "Hindi      45\n",
      "Urdu       66\n",
      "Maths      89\n",
      "dtype: int64\n"
     ]
    }
   ],
   "source": [
    "sample=pd.Series(data=[30,6,\"yes\",\"no\"],index=[\"eggs\",\"apples\",\"milk\",\"bread\"])\n",
    "marks=pd.Series(data=[78,45,66,89],index=[\"English\",\"Hindi\",\"Urdu\",\"Maths\"])\n",
    "print(sample)\n",
    "print(marks)"
   ]
  },
  {
   "cell_type": "markdown",
   "metadata": {},
   "source": [
    "# Functions to get information from panda series"
   ]
  },
  {
   "cell_type": "code",
   "execution_count": 4,
   "metadata": {},
   "outputs": [
    {
     "name": "stdout",
     "output_type": "stream",
     "text": [
      " shape (Dimension) = (4,)\n",
      " Number of Dimensions = 1\n",
      " Number of Elements = 4\n",
      " Indexes are = Index(['English', 'Hindi', 'Urdu', 'Maths'], dtype='object')\n",
      " Values are = [78 45 66 89]\n",
      "False\n",
      "True\n"
     ]
    }
   ],
   "source": [
    "marks=pd.Series(data=[78,45,66,89],index=[\"English\",\"Hindi\",\"Urdu\",\"Maths\"])\n",
    "print(f\" shape (Dimension) = {marks.shape}\")\n",
    "print(f\" Number of Dimensions = {marks.ndim}\")\n",
    "print(f\" Number of Elements = {marks.size}\")\n",
    "print(f\" Indexes are = {marks.index}\")\n",
    "print(f\" Values are = {marks.values}\")\n",
    "# used to check if WT is present in marks as index\n",
    "print(\"WT\" in marks)\n",
    "print(\"Hindi\" in marks)"
   ]
  },
  {
   "cell_type": "markdown",
   "metadata": {},
   "source": [
    "# Accessing and Modifying Elements of pandas series"
   ]
  },
  {
   "cell_type": "code",
   "execution_count": 5,
   "metadata": {},
   "outputs": [
    {
     "name": "stdout",
     "output_type": "stream",
     "text": [
      "Using labled indexes 78\n",
      "Using numeric indexes 78\n",
      "Using labled indexes to get multiple data items\n",
      " English    78\n",
      "Hindi      45\n",
      "dtype: int64\n",
      "Using numeric indexes to get multiple data items\n",
      " English    78\n",
      "Hindi      45\n",
      "dtype: int64\n",
      "using loc \n",
      "  English    78\n",
      "dtype: int64\n",
      "using iloc \n",
      "  English    78\n",
      "Hindi      45\n",
      "dtype: int64\n"
     ]
    }
   ],
   "source": [
    "marks=pd.Series(data=[78,45,66,89],index=[\"English\",\"Hindi\",\"Urdu\",\"Maths\"])\n",
    "# panda series can be accessed using provided indexes or from numeric indexes\n",
    "print(f\"Using labled indexes\",marks[\"English\"])\n",
    "print(f\"Using numeric indexes\",marks[0])\n",
    "print(f\"Using labled indexes to get multiple data items\\n\",marks[[\"English\",\"Hindi\"]])\n",
    "print(f\"Using numeric indexes to get multiple data items\\n\",marks[[0,1]])\n",
    "# loc is used to explicitly show that we are accessing element using labled index\n",
    "print(\"using loc \\n \", marks.loc[[\"English\"]])\n",
    "# iloc is used to explicitly show that we are accessing element using numeric index\n",
    "print(\"using iloc \\n \", marks.iloc[[0,1]])"
   ]
  },
  {
   "cell_type": "code",
   "execution_count": 6,
   "metadata": {},
   "outputs": [
    {
     "name": "stdout",
     "output_type": "stream",
     "text": [
      "English    12\n",
      "Hindi      22\n",
      "Urdu       66\n",
      "Maths      89\n",
      "dtype: int64\n"
     ]
    }
   ],
   "source": [
    "marks[\"English\"]=12\n",
    "marks[1]=22\n",
    "print(marks)"
   ]
  },
  {
   "cell_type": "markdown",
   "metadata": {},
   "source": [
    "# Deleting Elements from panda series"
   ]
  },
  {
   "cell_type": "code",
   "execution_count": 7,
   "metadata": {},
   "outputs": [
    {
     "name": "stdout",
     "output_type": "stream",
     "text": [
      "Hindi    22\n",
      "Urdu     66\n",
      "Maths    89\n",
      "dtype: int64\n",
      "English    12\n",
      "Hindi      22\n",
      "Urdu       66\n",
      "Maths      89\n",
      "dtype: int64\n"
     ]
    }
   ],
   "source": [
    "# Does Not change actual series variable only returns a copy of deleted series\n",
    "temp=marks.drop([\"English\"])\n",
    "print(temp)\n",
    "print(marks)"
   ]
  },
  {
   "cell_type": "code",
   "execution_count": 8,
   "metadata": {},
   "outputs": [
    {
     "name": "stdout",
     "output_type": "stream",
     "text": [
      "Hindi    45\n",
      "Urdu     66\n",
      "Maths    89\n",
      "dtype: int64\n"
     ]
    }
   ],
   "source": [
    "marks=pd.Series(data=[78,45,66,89],index=[\"English\",\"Hindi\",\"Urdu\",\"Maths\"])\n",
    "# while using inplace it changes the orignal variable and returns none\n",
    "temp=marks.drop([\"English\"],inplace=True)\n",
    "print(marks)"
   ]
  },
  {
   "cell_type": "markdown",
   "metadata": {},
   "source": [
    "# Arithmetic Operations on Series"
   ]
  },
  {
   "cell_type": "code",
   "execution_count": 9,
   "metadata": {},
   "outputs": [
    {
     "name": "stdout",
     "output_type": "stream",
     "text": [
      "Apple     10\n",
      "Mango     20\n",
      "Orange    30\n",
      "dtype: int64\n",
      "fruits+2\n",
      "\n",
      " Apple     12\n",
      "Mango     22\n",
      "Orange    32\n",
      "dtype: int64\n",
      "fruits-2\n",
      "\n",
      " Apple      8\n",
      "Mango     18\n",
      "Orange    28\n",
      "dtype: int64\n",
      "fruits*2\n",
      "\n",
      " Apple     20\n",
      "Mango     40\n",
      "Orange    60\n",
      "dtype: int64\n",
      "fruits/2\n",
      "\n",
      " Apple      5.0\n",
      "Mango     10.0\n",
      "Orange    15.0\n",
      "dtype: float64\n"
     ]
    }
   ],
   "source": [
    "fruits=pd.Series([10,20,30],[[\"Apple\",\"Mango\",\"Orange\"]])   \n",
    "print(fruits)\n",
    "print(\"fruits+2\\n\\n\",fruits+2)\n",
    "print(\"fruits-2\\n\\n\",fruits-2)\n",
    "print(\"fruits*2\\n\\n\",fruits*2)\n",
    "print(\"fruits/2\\n\\n\",fruits/2)"
   ]
  },
  {
   "cell_type": "markdown",
   "metadata": {},
   "source": [
    "# Numpy and Pandas"
   ]
  },
  {
   "cell_type": "code",
   "execution_count": 10,
   "metadata": {},
   "outputs": [
    {
     "name": "stdout",
     "output_type": "stream",
     "text": [
      "Power Function\n",
      " Apple     100\n",
      "Mango     400\n",
      "Orange    900\n",
      "dtype: int64\n",
      "Sauare Root Function\n",
      " Apple     3.162278\n",
      "Mango     4.472136\n",
      "Orange    5.477226\n",
      "dtype: float64\n"
     ]
    }
   ],
   "source": [
    "print(\"Power Function\\n\",np.power(fruits,2))\n",
    "print(\"Sauare Root Function\\n\",np.sqrt(fruits))"
   ]
  },
  {
   "cell_type": "code",
   "execution_count": 11,
   "metadata": {},
   "outputs": [
    {
     "name": "stdout",
     "output_type": "stream",
     "text": [
      "12\n",
      "15\n",
      "Apple     30\n",
      "Orange    90\n",
      "dtype: int64\n",
      "Apple      3.333333\n",
      "Orange    10.000000\n",
      "dtype: float64\n",
      "Apple     10\n",
      "Mango     20\n",
      "Orange    30\n",
      "dtype: int64\n"
     ]
    }
   ],
   "source": [
    "fruits=pd.Series([10,20,30],[[\"Apple\",\"Mango\",\"Orange\"]])   \n",
    "print(fruits[\"Apple\"]+2)\n",
    "print(fruits.iloc[1]-5)\n",
    "print(fruits[[\"Apple\",\"Orange\"]]*3)\n",
    "print(fruits.loc[[\"Apple\",\"Orange\"]]/3)\n",
    "print(fruits)\n",
    "# if the operation is defined for all the data types in elements it can be performed otherwise an error will occour"
   ]
  },
  {
   "cell_type": "markdown",
   "metadata": {},
   "source": [
    "# Planets Quiz"
   ]
  },
  {
   "cell_type": "code",
   "execution_count": 12,
   "metadata": {},
   "outputs": [
    {
     "data": {
      "text/plain": [
       "Earth     8.311111\n",
       "Mars     12.661111\n",
       "Venus     6.011111\n",
       "dtype: float64"
      ]
     },
     "execution_count": 12,
     "metadata": {},
     "output_type": "execute_result"
    }
   ],
   "source": [
    "distance_from_sun = [149.6, 1433.5, 227.9, 108.2, 778.6]\n",
    "planets = ['Earth','Saturn', 'Mars','Venus', 'Jupiter']\n",
    "dist_planets =pd.Series(data=distance_from_sun,index=planets)\n",
    "time=dist_planets /18\n",
    "close_planets = time[time<=40]\n",
    "close_planets"
   ]
  },
  {
   "cell_type": "code",
   "execution_count": 24,
   "metadata": {},
   "outputs": [
    {
     "name": "stdout",
     "output_type": "stream",
     "text": [
      "alpha\n",
      "alpha\n"
     ]
    }
   ],
   "source": [
    "names=[\"alpha\",\"beta\",\"charlie\",\"delta\"]\n",
    "alphabets=np.array([\"a\",\"b\",\"c\",\"d\"])\n",
    "AlphaSeries=pd.Series(data=names,index=alphabets)\n",
    "print(AlphaSeries[\"a\"])\n",
    "print(AlphaSeries[0])\n"
   ]
  },
  {
   "cell_type": "code",
   "execution_count": 26,
   "metadata": {},
   "outputs": [
    {
     "name": "stdout",
     "output_type": "stream",
     "text": [
      "a    alphaNew\n",
      "b        beta\n",
      "c     charlie\n",
      "d       delta\n",
      "dtype: object\n"
     ]
    }
   ],
   "source": [
    "AlphaSeries[\"a\"]=\"alphaNew\"\n",
    "print(AlphaSeries)"
   ]
  }
 ],
 "metadata": {
  "kernelspec": {
   "display_name": "Python 3.10.5 64-bit",
   "language": "python",
   "name": "python3"
  },
  "language_info": {
   "codemirror_mode": {
    "name": "ipython",
    "version": 3
   },
   "file_extension": ".py",
   "mimetype": "text/x-python",
   "name": "python",
   "nbconvert_exporter": "python",
   "pygments_lexer": "ipython3",
   "version": "3.10.5"
  },
  "orig_nbformat": 4,
  "vscode": {
   "interpreter": {
    "hash": "ca3baad2243e1b968893fccfbc814a0945e11c9d26858fec05fa1f6aa4ff6a4c"
   }
  }
 },
 "nbformat": 4,
 "nbformat_minor": 2
}
