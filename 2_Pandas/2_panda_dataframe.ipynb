{
 "cells": [
  {
   "cell_type": "code",
   "execution_count": 86,
   "metadata": {},
   "outputs": [],
   "source": [
    "import pandas as pd\n",
    "import numpy as np\n",
    "import matplotlib.pyplot as plt"
   ]
  },
  {
   "cell_type": "code",
   "execution_count": 117,
   "metadata": {},
   "outputs": [],
   "source": [
    "def showDataFrame(DataFrame,hideIndex=False):\n",
    "    if hideIndex == True:\n",
    "        print(DataFrame.to_string(index=False))\n",
    "        return\n",
    "    print(DataFrame.to_markdown())\n",
    "    print()"
   ]
  },
  {
   "cell_type": "code",
   "execution_count": 88,
   "metadata": {},
   "outputs": [
    {
     "data": {
      "text/html": [
       "<div>\n",
       "<style scoped>\n",
       "    .dataframe tbody tr th:only-of-type {\n",
       "        vertical-align: middle;\n",
       "    }\n",
       "\n",
       "    .dataframe tbody tr th {\n",
       "        vertical-align: top;\n",
       "    }\n",
       "\n",
       "    .dataframe thead th {\n",
       "        text-align: right;\n",
       "    }\n",
       "</style>\n",
       "<table border=\"1\" class=\"dataframe\">\n",
       "  <thead>\n",
       "    <tr style=\"text-align: right;\">\n",
       "      <th></th>\n",
       "      <th>Rayyan</th>\n",
       "      <th>Affan</th>\n",
       "    </tr>\n",
       "  </thead>\n",
       "  <tbody>\n",
       "    <tr>\n",
       "      <th>Charger</th>\n",
       "      <td>40.0</td>\n",
       "      <td>400.0</td>\n",
       "    </tr>\n",
       "    <tr>\n",
       "      <th>Phone</th>\n",
       "      <td>30.0</td>\n",
       "      <td>NaN</td>\n",
       "    </tr>\n",
       "    <tr>\n",
       "      <th>Shoes</th>\n",
       "      <td>NaN</td>\n",
       "      <td>300.0</td>\n",
       "    </tr>\n",
       "    <tr>\n",
       "      <th>Watch</th>\n",
       "      <td>20.0</td>\n",
       "      <td>200.0</td>\n",
       "    </tr>\n",
       "  </tbody>\n",
       "</table>\n",
       "</div>"
      ],
      "text/plain": [
       "         Rayyan  Affan\n",
       "Charger    40.0  400.0\n",
       "Phone      30.0    NaN\n",
       "Shoes       NaN  300.0\n",
       "Watch      20.0  200.0"
      ]
     },
     "execution_count": 88,
     "metadata": {},
     "output_type": "execute_result"
    }
   ],
   "source": [
    "shopping_list={\"Rayyan\":pd.Series(data=[20,30,40],index=[\"Watch\",\"Phone\",\"Charger\"]),\n",
    "                \"Affan\":pd.Series(data=[200,300,400],index=[\"Watch\",\"Shoes\",\"Charger\"])\n",
    "}\n",
    "frame=pd.DataFrame(shopping_list)\n",
    "frame\n",
    "# Key of dictionary have became the column label\n",
    "# labels of series becomes the row label union of both te series\n",
    "# values are sorted by index values\n",
    "# NaN means that this row,column does not have a value"
   ]
  },
  {
   "cell_type": "code",
   "execution_count": 89,
   "metadata": {},
   "outputs": [
    {
     "data": {
      "text/html": [
       "<div>\n",
       "<style scoped>\n",
       "    .dataframe tbody tr th:only-of-type {\n",
       "        vertical-align: middle;\n",
       "    }\n",
       "\n",
       "    .dataframe tbody tr th {\n",
       "        vertical-align: top;\n",
       "    }\n",
       "\n",
       "    .dataframe thead th {\n",
       "        text-align: right;\n",
       "    }\n",
       "</style>\n",
       "<table border=\"1\" class=\"dataframe\">\n",
       "  <thead>\n",
       "    <tr style=\"text-align: right;\">\n",
       "      <th></th>\n",
       "      <th>Rayyan</th>\n",
       "      <th>Affan</th>\n",
       "    </tr>\n",
       "  </thead>\n",
       "  <tbody>\n",
       "    <tr>\n",
       "      <th>0</th>\n",
       "      <td>20</td>\n",
       "      <td>200</td>\n",
       "    </tr>\n",
       "    <tr>\n",
       "      <th>1</th>\n",
       "      <td>30</td>\n",
       "      <td>300</td>\n",
       "    </tr>\n",
       "    <tr>\n",
       "      <th>2</th>\n",
       "      <td>40</td>\n",
       "      <td>400</td>\n",
       "    </tr>\n",
       "  </tbody>\n",
       "</table>\n",
       "</div>"
      ],
      "text/plain": [
       "   Rayyan  Affan\n",
       "0      20    200\n",
       "1      30    300\n",
       "2      40    400"
      ]
     },
     "execution_count": 89,
     "metadata": {},
     "output_type": "execute_result"
    }
   ],
   "source": [
    "shopping_list={\"Rayyan\":pd.Series(data=[20,30,40]),\n",
    "                \"Affan\":pd.Series(data=[200,300,400])\n",
    "}\n",
    "frame=pd.DataFrame(shopping_list)\n",
    "frame"
   ]
  },
  {
   "cell_type": "code",
   "execution_count": 90,
   "metadata": {},
   "outputs": [
    {
     "name": "stdout",
     "output_type": "stream",
     "text": [
      "         Rayyan  Affan\n",
      "Charger    40.0  400.0\n",
      "Phone      30.0    NaN\n",
      "Shoes       NaN  300.0\n",
      "Watch      20.0  200.0\n",
      "Shape = (4, 2)\n",
      "Dimension = 2\n",
      "Number of Elements = 8\n",
      "Values = \n",
      "[[ 40. 400.]\n",
      " [ 30.  nan]\n",
      " [ nan 300.]\n",
      " [ 20. 200.]]\n",
      "Index = \n",
      "Index(['Charger', 'Phone', 'Shoes', 'Watch'], dtype='object')\n",
      "Column Labels = \n",
      "Index(['Rayyan', 'Affan'], dtype='object')\n"
     ]
    }
   ],
   "source": [
    "shopping_list={\"Rayyan\":pd.Series(data=[20,30,40],index=[\"Watch\",\"Phone\",\"Charger\"]),\n",
    "                \"Affan\":pd.Series(data=[200,300,400],index=[\"Watch\",\"Shoes\",\"Charger\"])\n",
    "}\n",
    "frame=pd.DataFrame(shopping_list)\n",
    "print(frame)\n",
    "print(f\"Shape = {frame.shape}\")\n",
    "print(f\"Dimension = {frame.ndim}\")\n",
    "print(f\"Number of Elements = {frame.size}\")\n",
    "print(f\"Values = \\n{frame.values}\")\n",
    "print(f\"Index = \\n{frame.index}\") # row labels\n",
    "print(f\"Column Labels = \\n{frame.columns}\") #column labels\n"
   ]
  },
  {
   "cell_type": "markdown",
   "metadata": {},
   "source": [
    "# Creating DataFrame using Dictionary"
   ]
  },
  {
   "cell_type": "code",
   "execution_count": 91,
   "metadata": {},
   "outputs": [
    {
     "data": {
      "text/html": [
       "<div>\n",
       "<style scoped>\n",
       "    .dataframe tbody tr th:only-of-type {\n",
       "        vertical-align: middle;\n",
       "    }\n",
       "\n",
       "    .dataframe tbody tr th {\n",
       "        vertical-align: top;\n",
       "    }\n",
       "\n",
       "    .dataframe thead th {\n",
       "        text-align: right;\n",
       "    }\n",
       "</style>\n",
       "<table border=\"1\" class=\"dataframe\">\n",
       "  <thead>\n",
       "    <tr style=\"text-align: right;\">\n",
       "      <th></th>\n",
       "      <th>int</th>\n",
       "      <th>float</th>\n",
       "    </tr>\n",
       "  </thead>\n",
       "  <tbody>\n",
       "    <tr>\n",
       "      <th>L1</th>\n",
       "      <td>1</td>\n",
       "      <td>2.5</td>\n",
       "    </tr>\n",
       "    <tr>\n",
       "      <th>L2</th>\n",
       "      <td>2</td>\n",
       "      <td>3.9</td>\n",
       "    </tr>\n",
       "    <tr>\n",
       "      <th>L3</th>\n",
       "      <td>3</td>\n",
       "      <td>8.8</td>\n",
       "    </tr>\n",
       "  </tbody>\n",
       "</table>\n",
       "</div>"
      ],
      "text/plain": [
       "    int  float\n",
       "L1    1    2.5\n",
       "L2    2    3.9\n",
       "L3    3    8.8"
      ]
     },
     "execution_count": 91,
     "metadata": {},
     "output_type": "execute_result"
    }
   ],
   "source": [
    "nums={\n",
    "    \"int\":[1,2,3],\n",
    "    \"float\":[2.5,3.9,8.8]\n",
    "}\n",
    "df=pd.DataFrame(nums,[\"L1\",\"L2\",\"L3\"])\n",
    "df"
   ]
  },
  {
   "cell_type": "code",
   "execution_count": 92,
   "metadata": {},
   "outputs": [
    {
     "name": "stdout",
     "output_type": "stream",
     "text": [
      "\n"
     ]
    },
    {
     "data": {
      "text/html": [
       "<div>\n",
       "<style scoped>\n",
       "    .dataframe tbody tr th:only-of-type {\n",
       "        vertical-align: middle;\n",
       "    }\n",
       "\n",
       "    .dataframe tbody tr th {\n",
       "        vertical-align: top;\n",
       "    }\n",
       "\n",
       "    .dataframe thead th {\n",
       "        text-align: right;\n",
       "    }\n",
       "</style>\n",
       "<table border=\"1\" class=\"dataframe\">\n",
       "  <thead>\n",
       "    <tr style=\"text-align: right;\">\n",
       "      <th></th>\n",
       "      <th>bikes</th>\n",
       "      <th>pants</th>\n",
       "      <th>watches</th>\n",
       "      <th>glasses</th>\n",
       "    </tr>\n",
       "  </thead>\n",
       "  <tbody>\n",
       "    <tr>\n",
       "      <th>store 1</th>\n",
       "      <td>20</td>\n",
       "      <td>30</td>\n",
       "      <td>35</td>\n",
       "      <td>NaN</td>\n",
       "    </tr>\n",
       "    <tr>\n",
       "      <th>store 2</th>\n",
       "      <td>15</td>\n",
       "      <td>5</td>\n",
       "      <td>10</td>\n",
       "      <td>50.0</td>\n",
       "    </tr>\n",
       "  </tbody>\n",
       "</table>\n",
       "</div>"
      ],
      "text/plain": [
       "         bikes  pants  watches  glasses\n",
       "store 1     20     30       35      NaN\n",
       "store 2     15      5       10     50.0"
      ]
     },
     "execution_count": 92,
     "metadata": {},
     "output_type": "execute_result"
    }
   ],
   "source": [
    "items2 = [{'bikes': 20, 'pants': 30, 'watches': 35}, \n",
    "          {'watches': 10, 'glasses': 50, 'bikes': 15, 'pants':5}\n",
    "          ]\n",
    "print()\n",
    "store_items = pd.DataFrame(items2, index = ['store 1', 'store 2'])\n",
    "store_items "
   ]
  },
  {
   "cell_type": "code",
   "execution_count": 93,
   "metadata": {},
   "outputs": [
    {
     "data": {
      "text/html": [
       "<div>\n",
       "<style scoped>\n",
       "    .dataframe tbody tr th:only-of-type {\n",
       "        vertical-align: middle;\n",
       "    }\n",
       "\n",
       "    .dataframe tbody tr th {\n",
       "        vertical-align: top;\n",
       "    }\n",
       "\n",
       "    .dataframe thead th {\n",
       "        text-align: right;\n",
       "    }\n",
       "</style>\n",
       "<table border=\"1\" class=\"dataframe\">\n",
       "  <thead>\n",
       "    <tr style=\"text-align: right;\">\n",
       "      <th></th>\n",
       "      <th>bikes</th>\n",
       "      <th>pants</th>\n",
       "      <th>watches</th>\n",
       "      <th>glasses</th>\n",
       "    </tr>\n",
       "  </thead>\n",
       "  <tbody>\n",
       "    <tr>\n",
       "      <th>0</th>\n",
       "      <td>20</td>\n",
       "      <td>30</td>\n",
       "      <td>35</td>\n",
       "      <td>NaN</td>\n",
       "    </tr>\n",
       "    <tr>\n",
       "      <th>1</th>\n",
       "      <td>15</td>\n",
       "      <td>5</td>\n",
       "      <td>10</td>\n",
       "      <td>50.0</td>\n",
       "    </tr>\n",
       "  </tbody>\n",
       "</table>\n",
       "</div>"
      ],
      "text/plain": [
       "   bikes  pants  watches  glasses\n",
       "0     20     30       35      NaN\n",
       "1     15      5       10     50.0"
      ]
     },
     "execution_count": 93,
     "metadata": {},
     "output_type": "execute_result"
    }
   ],
   "source": [
    "store_items = pd.DataFrame(items2)\n",
    "store_items"
   ]
  },
  {
   "cell_type": "markdown",
   "metadata": {},
   "source": [
    "# Accessing Elelments in DataFrame"
   ]
  },
  {
   "cell_type": "code",
   "execution_count": 94,
   "metadata": {},
   "outputs": [
    {
     "name": "stdout",
     "output_type": "stream",
     "text": [
      "Store Items\n",
      "         bikes  pants  watches  glasses\n",
      "store_1     20     30       35      NaN\n",
      "store_2     15      5       10     50.0\n",
      "Bikes\n",
      "store_1    20\n",
      "store_2    15\n",
      "Name: bikes, dtype: int64\n",
      "Bikes and Watches\n",
      "         bikes  watches\n",
      "store_1     20       35\n",
      "store_2     15       10\n",
      "Bikes and Watches using loc function\n",
      "bikes      20.0\n",
      "pants      30.0\n",
      "watches    35.0\n",
      "glasses     NaN\n",
      "Name: store_1, dtype: float64\n",
      "20\n",
      "         bikes  pants  watches  glasses  shirts\n",
      "store_1     20     30       35      NaN      15\n",
      "store_2     15      5       10     50.0       2\n",
      "         bikes  pants  watches  glasses  shirts  suits\n",
      "store_1     20     30       35      NaN      15     45\n",
      "store_2     15      5       10     50.0       2      7\n"
     ]
    }
   ],
   "source": [
    "items2 = [{'bikes': 20, 'pants': 30, 'watches': 35}, \n",
    "          {'watches': 10, 'glasses': 50, 'bikes': 15, 'pants':5}\n",
    "          ]\n",
    "store_items = pd.DataFrame(items2,index=[\"store_1\",\"store_2\"])\n",
    "print(\"Store Items\")\n",
    "print(store_items)\n",
    "print(\"Bikes\")\n",
    "print(store_items[\"bikes\"])\n",
    "print(\"Bikes and Watches\")\n",
    "print(store_items[[\"bikes\",\"watches\"]])\n",
    "print(\"Bikes and Watches using loc function\")\n",
    "print(store_items.loc['store_1'])\n",
    "\n",
    "# print(store_items[<column label>][<row label>])\n",
    "print(store_items[\"bikes\"]['store_1'])\n",
    "# adding column in dataframe\n",
    "store_items['shirts'] = [15,2]\n",
    "print(store_items)\n",
    "store_items['suits'] = store_items['pants'] + store_items['shirts']\n",
    "print(store_items)\n"
   ]
  },
  {
   "cell_type": "code",
   "execution_count": 95,
   "metadata": {},
   "outputs": [
    {
     "name": "stdout",
     "output_type": "stream",
     "text": [
      "         bikes  watches  pants\n",
      "store_3     10       19      8\n",
      "         bikes  pants  watches  glasses\n",
      "store_1     20     30       35      NaN\n",
      "store_2     15      5       10     50.0\n",
      "         bikes  pants  watches  glasses\n",
      "store_1     20     30       35      NaN\n",
      "store_2     15      5       10     50.0\n",
      "store_3     10      8       19      NaN\n"
     ]
    }
   ],
   "source": [
    "items2 = [{'bikes': 20, 'pants': 30, 'watches': 35}, \n",
    "          {'watches': 10, 'glasses': 50, 'bikes': 15, 'pants':5}\n",
    "          ]\n",
    "store_items = pd.DataFrame(items2,index=[\"store_1\",\"store_2\"])\n",
    "# adding a new row to the dataframe\n",
    "new_store={\"bikes\":10,\"watches\":19,\"pants\":8}\n",
    "df1=pd.DataFrame(new_store,index=[\"store_3\"])\n",
    "print(df1)\n",
    "# store_items.append(df1) # insted of append concat is used\n",
    "print(store_items)\n",
    "store_items=pd.concat([store_items,df1])\n",
    "print(store_items)\n",
    "\n"
   ]
  },
  {
   "cell_type": "markdown",
   "metadata": {},
   "source": [
    "some commonly used methods\n",
    "<br>\n",
    "df.tail() ---> returns last 5 rows of dataframe\n",
    "<br>\n",
    "df.head() ---> returns first 5 rows of dataframe\n",
    "<br>\n",
    "df.tail(n) ---> returns last n rows of dataframe\n",
    "<br>\n",
    "df.head(n) ---> returns first n rows of dataframe\n",
    "<br>\n",
    "Google_stock.isnull().any() ---> used to check for NaN Values in any column\n",
    ".describe() method to get descriptive statistics on each column of the DataFrame\n"
   ]
  },
  {
   "cell_type": "markdown",
   "metadata": {},
   "source": [
    "# Groupby\n",
    "data.groupby(['Year', 'Department'])['Salary'].sum()\n",
    "<br>\n",
    "year , department,salary are column names\n"
   ]
  },
  {
   "cell_type": "code",
   "execution_count": 96,
   "metadata": {},
   "outputs": [],
   "source": [
    "import pandas as pd"
   ]
  },
  {
   "cell_type": "code",
   "execution_count": 97,
   "metadata": {},
   "outputs": [
    {
     "name": "stdout",
     "output_type": "stream",
     "text": [
      "   0\n",
      "0  1\n",
      "1  2\n",
      "2  3\n",
      "3  4\n",
      "4  5\n"
     ]
    }
   ],
   "source": [
    "data1=[1,2,3,4,5]\n",
    "df1=pd.DataFrame(data1)\n",
    "print(df1)"
   ]
  },
  {
   "cell_type": "code",
   "execution_count": 98,
   "metadata": {},
   "outputs": [
    {
     "name": "stdout",
     "output_type": "stream",
     "text": [
      "|    |   0 |   1 |   2 |\n",
      "|---:|----:|----:|----:|\n",
      "|  0 |   1 |   2 |   3 |\n",
      "|  1 |   4 |   5 |   6 |\n",
      "\n",
      "|    |   0 |\n",
      "|---:|----:|\n",
      "|  0 |   1 |\n",
      "|  1 |   4 |\n",
      "\n"
     ]
    }
   ],
   "source": [
    "data2=[\n",
    "    [1,2,3],\n",
    "    [4,5,6]\n",
    "]\n",
    "df2=pd.DataFrame(data2)\n",
    "showDataFrame(df2) \n",
    "showDataFrame(df2[0])"
   ]
  },
  {
   "cell_type": "code",
   "execution_count": 99,
   "metadata": {},
   "outputs": [
    {
     "name": "stdout",
     "output_type": "stream",
     "text": [
      "|    | Name   |   Age |\n",
      "|---:|:-------|------:|\n",
      "|  1 | A      |    10 |\n",
      "|  2 | B      |    11 |\n",
      "|  3 | C      |    12 |\n",
      "\n"
     ]
    }
   ],
   "source": [
    "data3=[[\"A\",10],[\"B\",11],[\"C\",12]]\n",
    "'''\n",
    "\n",
    "Data Frame Indexing df[<column-header>][<row-attribute>] EG -print(df3[\"Name\"][\"44\"])\n",
    "columns parameter gives column headers to data frame number of comumns should be equal to len(data[0]) and it should be\n",
    "constant in whole data len(data3[0,1,2,3..n]) is 2\n",
    "index parameter gives <row-attributes> it should be equal to number of rows len(data)\n",
    "'''\n",
    "df3=pd.DataFrame(data3,columns=[\"Name\",\"Age\"],index=range(1,len(data3)+1))\n",
    "showDataFrame(df3)"
   ]
  },
  {
   "cell_type": "code",
   "execution_count": 100,
   "metadata": {},
   "outputs": [
    {
     "data": {
      "text/plain": [
       "[<matplotlib.lines.Line2D at 0x2b8cea427d0>]"
      ]
     },
     "execution_count": 100,
     "metadata": {},
     "output_type": "execute_result"
    },
    {
     "data": {
      "image/png": "[encoded data removed]",
      "text/plain": [
       "<Figure size 640x480 with 1 Axes>"
      ]
     },
     "metadata": {},
     "output_type": "display_data"
    }
   ],
   "source": [
    "data4={\n",
    "    \"name\":[\"A\",\"B\",\"C\",\"D\"],\n",
    "    \"age\" :[13,12,-3,4]\n",
    "}\n",
    "df4=pd.DataFrame(data4,index=None)\n",
    "# df4\n",
    "plt.plot(df4[\"name\"],df4[\"age\"],marker=\"o\")"
   ]
  },
  {
   "cell_type": "markdown",
   "metadata": {},
   "source": [
    "# Reading files from CSV files"
   ]
  },
  {
   "cell_type": "code",
   "execution_count": 124,
   "metadata": {},
   "outputs": [
    {
     "data": {
      "text/html": [
       "<div>\n",
       "<style scoped>\n",
       "    .dataframe tbody tr th:only-of-type {\n",
       "        vertical-align: middle;\n",
       "    }\n",
       "\n",
       "    .dataframe tbody tr th {\n",
       "        vertical-align: top;\n",
       "    }\n",
       "\n",
       "    .dataframe thead th {\n",
       "        text-align: right;\n",
       "    }\n",
       "</style>\n",
       "<table border=\"1\" class=\"dataframe\">\n",
       "  <thead>\n",
       "    <tr style=\"text-align: right;\">\n",
       "      <th></th>\n",
       "      <th>First Name</th>\n",
       "      <th>Last Name</th>\n",
       "      <th>Address</th>\n",
       "      <th>City</th>\n",
       "      <th>Initial</th>\n",
       "      <th>Pincode</th>\n",
       "    </tr>\n",
       "  </thead>\n",
       "  <tbody>\n",
       "    <tr>\n",
       "      <th>1</th>\n",
       "      <td>Jack</td>\n",
       "      <td>McGinnis</td>\n",
       "      <td>220 hobo Av.</td>\n",
       "      <td>Phila</td>\n",
       "      <td>PA</td>\n",
       "      <td>9119</td>\n",
       "    </tr>\n",
       "    <tr>\n",
       "      <th>2</th>\n",
       "      <td>John \"Da Man\"</td>\n",
       "      <td>Repici</td>\n",
       "      <td>120 Jefferson St.</td>\n",
       "      <td>Riverside</td>\n",
       "      <td>NJ</td>\n",
       "      <td>8075</td>\n",
       "    </tr>\n",
       "    <tr>\n",
       "      <th>3</th>\n",
       "      <td>Stephen</td>\n",
       "      <td>Tyler</td>\n",
       "      <td>7452 Terrace \"At the Plaza\" road</td>\n",
       "      <td>SomeTown</td>\n",
       "      <td>SD</td>\n",
       "      <td>91234</td>\n",
       "    </tr>\n",
       "    <tr>\n",
       "      <th>4</th>\n",
       "      <td>NaN</td>\n",
       "      <td>Blankman</td>\n",
       "      <td>NaN</td>\n",
       "      <td>SomeTown</td>\n",
       "      <td>SD</td>\n",
       "      <td>298</td>\n",
       "    </tr>\n",
       "    <tr>\n",
       "      <th>5</th>\n",
       "      <td>Joan \"the bone\", Anne</td>\n",
       "      <td>Jet</td>\n",
       "      <td>9th, at Terrace plc</td>\n",
       "      <td>Desert City</td>\n",
       "      <td>CO</td>\n",
       "      <td>123</td>\n",
       "    </tr>\n",
       "  </tbody>\n",
       "</table>\n",
       "</div>"
      ],
      "text/plain": [
       "              First Name Last Name                           Address  \\\n",
       "1                   Jack  McGinnis                      220 hobo Av.   \n",
       "2          John \"Da Man\"    Repici                 120 Jefferson St.   \n",
       "3                Stephen     Tyler  7452 Terrace \"At the Plaza\" road   \n",
       "4                    NaN  Blankman                               NaN   \n",
       "5  Joan \"the bone\", Anne       Jet               9th, at Terrace plc   \n",
       "\n",
       "          City Initial  Pincode  \n",
       "1        Phila      PA     9119  \n",
       "2    Riverside      NJ     8075  \n",
       "3     SomeTown      SD    91234  \n",
       "4     SomeTown      SD      298  \n",
       "5  Desert City      CO      123  "
      ]
     },
     "execution_count": 124,
     "metadata": {},
     "output_type": "execute_result"
    }
   ],
   "source": [
    "# pandas recognise the first line of csv as the column names\n",
    "importedData=pd.read_csv(\"addresses.csv\")\n",
    "importedData.columns=[\"First Name\",\"Last Name\",\"Address\",\"City\",\"Initial\",\"Pincode\"]\n",
    "importedData.index=range(1,len(importedData.columns))\n",
    "importedData\n"
   ]
  },
  {
   "cell_type": "code",
   "execution_count": 102,
   "metadata": {},
   "outputs": [
    {
     "name": "stdout",
     "output_type": "stream",
     "text": [
      "|    | First Name            | Last Name   | Address                          | City        | Initial   |   Pincode |\n",
      "|---:|:----------------------|:------------|:---------------------------------|:------------|:----------|----------:|\n",
      "|  1 | Jack                  | McGinnis    | 220 hobo Av.                     | Phila       | PA        |      9119 |\n",
      "|  2 | John \"Da Man\"         | Repici      | 120 Jefferson St.                | Riverside   | NJ        |      8075 |\n",
      "|  3 | Stephen               | Tyler       | 7452 Terrace \"At the Plaza\" road | SomeTown    | SD        |     91234 |\n",
      "|  4 | nan                   | Blankman    | nan                              | SomeTown    | SD        |       298 |\n",
      "|  5 | Joan \"the bone\", Anne | Jet         | 9th, at Terrace plc              | Desert City | CO        |       123 |\n",
      "\n",
      "|    | City        |\n",
      "|---:|:------------|\n",
      "|  1 | Phila       |\n",
      "|  2 | Riverside   |\n",
      "|  3 | SomeTown    |\n",
      "|  4 | SomeTown    |\n",
      "|  5 | Desert City |\n",
      "\n"
     ]
    }
   ],
   "source": [
    "showDataFrame(importedData)\n",
    "# \n",
    "# prints only the specified column\n",
    "showDataFrame(importedData[\"City\"])\n"
   ]
  },
  {
   "cell_type": "code",
   "execution_count": 127,
   "metadata": {},
   "outputs": [
    {
     "name": "stdout",
     "output_type": "stream",
     "text": [
      "|    | First Name            | Last Name   | Address                          | City        | Initial   |   Pincode |\n",
      "|---:|:----------------------|:------------|:---------------------------------|:------------|:----------|----------:|\n",
      "|  1 | Jack                  | McGinnis    | 220 hobo Av.                     | Phila       | PA        |      9119 |\n",
      "|  2 | John \"Da Man\"         | Repici      | 120 Jefferson St.                | Riverside   | NJ        |      8075 |\n",
      "|  3 | Stephen               | Tyler       | 7452 Terrace \"At the Plaza\" road | SomeTown    | SD        |     91234 |\n",
      "|  4 | nan                   | Blankman    | nan                              | SomeTown    | SD        |       298 |\n",
      "|  5 | Joan \"the bone\", Anne | Jet         | 9th, at Terrace plc              | Desert City | CO        |       123 |\n",
      "\n"
     ]
    }
   ],
   "source": [
    "cityData=importedData[\"City\"]\n",
    "showDataFrame(importedData)\n"
   ]
  },
  {
   "cell_type": "code",
   "execution_count": 122,
   "metadata": {},
   "outputs": [],
   "source": [
    "# importedData[\"City\"][1]=\"sds\"                                                                             "
   ]
  },
  {
   "cell_type": "code",
   "execution_count": null,
   "metadata": {},
   "outputs": [],
   "source": []
  }
 ],
 "metadata": {
  "kernelspec": {
   "display_name": "Python 3.10.5 64-bit",
   "language": "python",
   "name": "python3"
  },
  "language_info": {
   "codemirror_mode": {
    "name": "ipython",
    "version": 3
   },
   "file_extension": ".py",
   "mimetype": "text/x-python",
   "name": "python",
   "nbconvert_exporter": "python",
   "pygments_lexer": "ipython3",
   "version": "3.10.5"
  },
  "orig_nbformat": 4,
  "vscode": {
   "interpreter": {
    "hash": "ca3baad2243e1b968893fccfbc814a0945e11c9d26858fec05fa1f6aa4ff6a4c"
   }
  }
 },
 "nbformat": 4,
 "nbformat_minor": 2
}
